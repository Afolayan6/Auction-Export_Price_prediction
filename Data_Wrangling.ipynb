{
 "cells": [
  {
   "cell_type": "code",
   "execution_count": 5,
   "id": "c7f81893-cb03-48b9-8487-5d646ca9ca9d",
   "metadata": {},
   "outputs": [],
   "source": [
    "import pandas as pd"
   ]
  },
  {
   "cell_type": "code",
   "execution_count": 7,
   "id": "b394994b-3a1a-431b-96a3-de8d6db5e3a5",
   "metadata": {},
   "outputs": [
    {
     "data": {
      "text/html": [
       "<div>\n",
       "<style scoped>\n",
       "    .dataframe tbody tr th:only-of-type {\n",
       "        vertical-align: middle;\n",
       "    }\n",
       "\n",
       "    .dataframe tbody tr th {\n",
       "        vertical-align: top;\n",
       "    }\n",
       "\n",
       "    .dataframe thead th {\n",
       "        text-align: right;\n",
       "    }\n",
       "</style>\n",
       "<table border=\"1\" class=\"dataframe\">\n",
       "  <thead>\n",
       "    <tr style=\"text-align: right;\">\n",
       "      <th></th>\n",
       "      <th>Year</th>\n",
       "      <th>Brand</th>\n",
       "      <th>Model</th>\n",
       "      <th>State</th>\n",
       "      <th>Milage</th>\n",
       "      <th>Lot</th>\n",
       "      <th>Price</th>\n",
       "    </tr>\n",
       "  </thead>\n",
       "  <tbody>\n",
       "    <tr>\n",
       "      <th>0</th>\n",
       "      <td>2014</td>\n",
       "      <td>JEEP</td>\n",
       "      <td>GRAND</td>\n",
       "      <td>Michigan</td>\n",
       "      <td>141611.0</td>\n",
       "      <td>206958611</td>\n",
       "      <td>3250</td>\n",
       "    </tr>\n",
       "    <tr>\n",
       "      <th>1</th>\n",
       "      <td>2014</td>\n",
       "      <td>HONDA</td>\n",
       "      <td>ACCORD</td>\n",
       "      <td>Michigan</td>\n",
       "      <td>262803.0</td>\n",
       "      <td>206958621</td>\n",
       "      <td>1425</td>\n",
       "    </tr>\n",
       "    <tr>\n",
       "      <th>2</th>\n",
       "      <td>1999</td>\n",
       "      <td>HONDA</td>\n",
       "      <td>CR-V</td>\n",
       "      <td>Michigan</td>\n",
       "      <td>214984.0</td>\n",
       "      <td>206958645</td>\n",
       "      <td>425</td>\n",
       "    </tr>\n",
       "    <tr>\n",
       "      <th>3</th>\n",
       "      <td>2011</td>\n",
       "      <td>HYUNDAI</td>\n",
       "      <td>SONATA</td>\n",
       "      <td>Michigan</td>\n",
       "      <td>171272.0</td>\n",
       "      <td>206958649</td>\n",
       "      <td>900</td>\n",
       "    </tr>\n",
       "    <tr>\n",
       "      <th>4</th>\n",
       "      <td>2001</td>\n",
       "      <td>HONDA</td>\n",
       "      <td>CR-V</td>\n",
       "      <td>Michigan</td>\n",
       "      <td>218334.0</td>\n",
       "      <td>206958650</td>\n",
       "      <td>500</td>\n",
       "    </tr>\n",
       "  </tbody>\n",
       "</table>\n",
       "</div>"
      ],
      "text/plain": [
       "   Year    Brand   Model     State    Milage        Lot  Price\n",
       "0  2014     JEEP   GRAND  Michigan  141611.0  206958611   3250\n",
       "1  2014    HONDA  ACCORD  Michigan  262803.0  206958621   1425\n",
       "2  1999    HONDA    CR-V  Michigan  214984.0  206958645    425\n",
       "3  2011  HYUNDAI  SONATA  Michigan  171272.0  206958649    900\n",
       "4  2001    HONDA    CR-V  Michigan  218334.0  206958650    500"
      ]
     },
     "execution_count": 7,
     "metadata": {},
     "output_type": "execute_result"
    }
   ],
   "source": [
    "#importing the data\n",
    "df = pd.read_csv(\"Auction_Export\")\n",
    "df.drop(columns = \"Unnamed: 0\", inplace = True)\n",
    "df.head()"
   ]
  },
  {
   "cell_type": "code",
   "execution_count": 9,
   "id": "ac73998f-aa0d-4d29-a1ef-0ab9d7406e75",
   "metadata": {},
   "outputs": [
    {
     "data": {
      "text/plain": [
       "(5013, 7)"
      ]
     },
     "execution_count": 9,
     "metadata": {},
     "output_type": "execute_result"
    }
   ],
   "source": [
    "df.shape"
   ]
  },
  {
   "cell_type": "code",
   "execution_count": 11,
   "id": "2cac24bb-d820-4d9f-9014-858ca525d55a",
   "metadata": {},
   "outputs": [
    {
     "name": "stdout",
     "output_type": "stream",
     "text": [
      "<class 'pandas.core.frame.DataFrame'>\n",
      "RangeIndex: 5013 entries, 0 to 5012\n",
      "Data columns (total 7 columns):\n",
      " #   Column  Non-Null Count  Dtype  \n",
      "---  ------  --------------  -----  \n",
      " 0   Year    5013 non-null   int64  \n",
      " 1   Brand   5013 non-null   object \n",
      " 2   Model   5005 non-null   object \n",
      " 3   State   5013 non-null   object \n",
      " 4   Milage  4969 non-null   float64\n",
      " 5   Lot     5013 non-null   int64  \n",
      " 6   Price   5013 non-null   int64  \n",
      "dtypes: float64(1), int64(3), object(3)\n",
      "memory usage: 274.3+ KB\n"
     ]
    }
   ],
   "source": [
    "#Checking the data types\n",
    "df.info()"
   ]
  },
  {
   "cell_type": "code",
   "execution_count": 13,
   "id": "5c6b0ab4-7ac5-42ff-a701-29449fdefd21",
   "metadata": {},
   "outputs": [],
   "source": [
    "#for consistency in the values\n",
    "df.Brand = df[\"Brand\"].apply(lambda x: x.upper())\n",
    "df.Model = df[\"Model\"].apply(lambda x: str(x))\n",
    "df.Model = df[\"Model\"].apply(lambda x: x.upper())"
   ]
  },
  {
   "cell_type": "code",
   "execution_count": 17,
   "id": "e89fc621-0b4f-48ef-99e5-649854c01d02",
   "metadata": {},
   "outputs": [
    {
     "data": {
      "text/plain": [
       "Year       0\n",
       "Brand      0\n",
       "Model      0\n",
       "State      0\n",
       "Milage    44\n",
       "Lot        0\n",
       "Price      0\n",
       "dtype: int64"
      ]
     },
     "execution_count": 17,
     "metadata": {},
     "output_type": "execute_result"
    }
   ],
   "source": [
    "df.isna().sum()"
   ]
  },
  {
   "cell_type": "code",
   "execution_count": 21,
   "id": "04f8adcc-5770-418f-be8c-de07dd16d6b5",
   "metadata": {},
   "outputs": [],
   "source": [
    "df = df.dropna()"
   ]
  },
  {
   "cell_type": "code",
   "execution_count": 23,
   "id": "2b4d91de-2b07-4403-96d3-a7c166dbd94c",
   "metadata": {},
   "outputs": [],
   "source": [
    "#removing any duplicates\n",
    "df = df.drop_duplicates()"
   ]
  },
  {
   "cell_type": "code",
   "execution_count": 25,
   "id": "66979bb3-af89-4b0f-8e85-939fc64e16dd",
   "metadata": {},
   "outputs": [],
   "source": [
    "df = df[df[\"Milage\"] != 1]"
   ]
  },
  {
   "cell_type": "code",
   "execution_count": 31,
   "id": "6c51fc94-6685-42e1-920d-c31135723067",
   "metadata": {},
   "outputs": [
    {
     "data": {
      "text/html": [
       "<div>\n",
       "<style scoped>\n",
       "    .dataframe tbody tr th:only-of-type {\n",
       "        vertical-align: middle;\n",
       "    }\n",
       "\n",
       "    .dataframe tbody tr th {\n",
       "        vertical-align: top;\n",
       "    }\n",
       "\n",
       "    .dataframe thead th {\n",
       "        text-align: right;\n",
       "    }\n",
       "</style>\n",
       "<table border=\"1\" class=\"dataframe\">\n",
       "  <thead>\n",
       "    <tr style=\"text-align: right;\">\n",
       "      <th></th>\n",
       "      <th>Brand</th>\n",
       "      <th>Year</th>\n",
       "    </tr>\n",
       "  </thead>\n",
       "  <tbody>\n",
       "    <tr>\n",
       "      <th>0</th>\n",
       "      <td>FORD</td>\n",
       "      <td>541</td>\n",
       "    </tr>\n",
       "    <tr>\n",
       "      <th>1</th>\n",
       "      <td>CHEVROLET</td>\n",
       "      <td>379</td>\n",
       "    </tr>\n",
       "    <tr>\n",
       "      <th>2</th>\n",
       "      <td>HONDA</td>\n",
       "      <td>303</td>\n",
       "    </tr>\n",
       "    <tr>\n",
       "      <th>3</th>\n",
       "      <td>KIA</td>\n",
       "      <td>149</td>\n",
       "    </tr>\n",
       "    <tr>\n",
       "      <th>4</th>\n",
       "      <td>HYUNDAI</td>\n",
       "      <td>137</td>\n",
       "    </tr>\n",
       "    <tr>\n",
       "      <th>5</th>\n",
       "      <td>DODGE</td>\n",
       "      <td>127</td>\n",
       "    </tr>\n",
       "    <tr>\n",
       "      <th>6</th>\n",
       "      <td>JEEP</td>\n",
       "      <td>109</td>\n",
       "    </tr>\n",
       "    <tr>\n",
       "      <th>7</th>\n",
       "      <td>BMW</td>\n",
       "      <td>74</td>\n",
       "    </tr>\n",
       "    <tr>\n",
       "      <th>8</th>\n",
       "      <td>GMC</td>\n",
       "      <td>72</td>\n",
       "    </tr>\n",
       "    <tr>\n",
       "      <th>9</th>\n",
       "      <td>MERCEDES-BENZ</td>\n",
       "      <td>66</td>\n",
       "    </tr>\n",
       "    <tr>\n",
       "      <th>10</th>\n",
       "      <td>CHRYSLER</td>\n",
       "      <td>58</td>\n",
       "    </tr>\n",
       "    <tr>\n",
       "      <th>11</th>\n",
       "      <td>LEXUS</td>\n",
       "      <td>49</td>\n",
       "    </tr>\n",
       "    <tr>\n",
       "      <th>12</th>\n",
       "      <td>MAZDA</td>\n",
       "      <td>45</td>\n",
       "    </tr>\n",
       "    <tr>\n",
       "      <th>13</th>\n",
       "      <td>CADILLAC</td>\n",
       "      <td>40</td>\n",
       "    </tr>\n",
       "    <tr>\n",
       "      <th>14</th>\n",
       "      <td>BUICK</td>\n",
       "      <td>38</td>\n",
       "    </tr>\n",
       "  </tbody>\n",
       "</table>\n",
       "</div>"
      ],
      "text/plain": [
       "            Brand  Year\n",
       "0            FORD   541\n",
       "1       CHEVROLET   379\n",
       "2           HONDA   303\n",
       "3             KIA   149\n",
       "4         HYUNDAI   137\n",
       "5           DODGE   127\n",
       "6            JEEP   109\n",
       "7             BMW    74\n",
       "8             GMC    72\n",
       "9   MERCEDES-BENZ    66\n",
       "10       CHRYSLER    58\n",
       "11          LEXUS    49\n",
       "12          MAZDA    45\n",
       "13       CADILLAC    40\n",
       "14          BUICK    38"
      ]
     },
     "execution_count": 31,
     "metadata": {},
     "output_type": "execute_result"
    }
   ],
   "source": [
    "#Reducing the data to include only the top 15 Brands\n",
    "brands = df.groupby([\"Brand\"]).count().drop(columns = [\"State\", \"Milage\", \"Lot\", \"Price\", \"Model\"]).sort_values(by = \"Year\", ascending = False)\n",
    "brands.reset_index(inplace = True)\n",
    "top_brands = brands.head(15)\n",
    "top_brands"
   ]
  },
  {
   "cell_type": "code",
   "execution_count": 73,
   "id": "ed974c21-a4d9-459d-bcec-7817bc8e772e",
   "metadata": {},
   "outputs": [],
   "source": [
    "brands_list = list(top_brands.Brand)"
   ]
  },
  {
   "cell_type": "code",
   "execution_count": 75,
   "id": "b28b4d93-aa5c-45d4-b320-f479b26271e3",
   "metadata": {},
   "outputs": [],
   "source": [
    "data = df[df[\"Brand\"].isin(brands_list)]"
   ]
  },
  {
   "cell_type": "code",
   "execution_count": 77,
   "id": "4ea8eb9a-1541-4129-9092-04d46ed448c1",
   "metadata": {},
   "outputs": [],
   "source": [
    "#Reducing the data to only include models that appear at least 10 times\n",
    "models = data.groupby(\"Model\").count().drop(columns = [\"Brand\", \"State\", \"Milage\", \"Lot\", \"Price\"]).reset_index()"
   ]
  },
  {
   "cell_type": "code",
   "execution_count": 79,
   "id": "5602af26-b7ca-4d51-a4e8-e93f36d1672b",
   "metadata": {},
   "outputs": [],
   "source": [
    "top_models = models[models[\"Year\"]>9]"
   ]
  },
  {
   "cell_type": "code",
   "execution_count": 81,
   "id": "ea755674-e145-49fc-bed2-089cd13db47d",
   "metadata": {},
   "outputs": [],
   "source": [
    "model_list = list(top_models[\"Model\"])"
   ]
  },
  {
   "cell_type": "code",
   "execution_count": 83,
   "id": "5e309679-de5d-47f2-a6fd-e2e50d177dde",
   "metadata": {},
   "outputs": [],
   "source": [
    "data = data[data[\"Model\"].isin(model_list)]"
   ]
  },
  {
   "cell_type": "code",
   "execution_count": 85,
   "id": "6369e1e3-ef79-4290-8cd4-dd7e4ff0c86f",
   "metadata": {},
   "outputs": [
    {
     "data": {
      "text/html": [
       "<div>\n",
       "<style scoped>\n",
       "    .dataframe tbody tr th:only-of-type {\n",
       "        vertical-align: middle;\n",
       "    }\n",
       "\n",
       "    .dataframe tbody tr th {\n",
       "        vertical-align: top;\n",
       "    }\n",
       "\n",
       "    .dataframe thead th {\n",
       "        text-align: right;\n",
       "    }\n",
       "</style>\n",
       "<table border=\"1\" class=\"dataframe\">\n",
       "  <thead>\n",
       "    <tr style=\"text-align: right;\">\n",
       "      <th></th>\n",
       "      <th>Year</th>\n",
       "      <th>Brand</th>\n",
       "      <th>Model</th>\n",
       "      <th>State</th>\n",
       "      <th>Milage</th>\n",
       "      <th>Lot</th>\n",
       "      <th>Price</th>\n",
       "    </tr>\n",
       "  </thead>\n",
       "  <tbody>\n",
       "    <tr>\n",
       "      <th>0</th>\n",
       "      <td>2014</td>\n",
       "      <td>JEEP</td>\n",
       "      <td>GRAND</td>\n",
       "      <td>Michigan</td>\n",
       "      <td>141611.0</td>\n",
       "      <td>206958611</td>\n",
       "      <td>3250</td>\n",
       "    </tr>\n",
       "    <tr>\n",
       "      <th>1</th>\n",
       "      <td>2014</td>\n",
       "      <td>HONDA</td>\n",
       "      <td>ACCORD</td>\n",
       "      <td>Michigan</td>\n",
       "      <td>262803.0</td>\n",
       "      <td>206958621</td>\n",
       "      <td>1425</td>\n",
       "    </tr>\n",
       "    <tr>\n",
       "      <th>2</th>\n",
       "      <td>1999</td>\n",
       "      <td>HONDA</td>\n",
       "      <td>CR-V</td>\n",
       "      <td>Michigan</td>\n",
       "      <td>214984.0</td>\n",
       "      <td>206958645</td>\n",
       "      <td>425</td>\n",
       "    </tr>\n",
       "    <tr>\n",
       "      <th>3</th>\n",
       "      <td>2011</td>\n",
       "      <td>HYUNDAI</td>\n",
       "      <td>SONATA</td>\n",
       "      <td>Michigan</td>\n",
       "      <td>171272.0</td>\n",
       "      <td>206958649</td>\n",
       "      <td>900</td>\n",
       "    </tr>\n",
       "    <tr>\n",
       "      <th>4</th>\n",
       "      <td>2001</td>\n",
       "      <td>HONDA</td>\n",
       "      <td>CR-V</td>\n",
       "      <td>Michigan</td>\n",
       "      <td>218334.0</td>\n",
       "      <td>206958650</td>\n",
       "      <td>500</td>\n",
       "    </tr>\n",
       "    <tr>\n",
       "      <th>...</th>\n",
       "      <td>...</td>\n",
       "      <td>...</td>\n",
       "      <td>...</td>\n",
       "      <td>...</td>\n",
       "      <td>...</td>\n",
       "      <td>...</td>\n",
       "      <td>...</td>\n",
       "    </tr>\n",
       "    <tr>\n",
       "      <th>4998</th>\n",
       "      <td>2005</td>\n",
       "      <td>HONDA</td>\n",
       "      <td>ACCORD</td>\n",
       "      <td>California</td>\n",
       "      <td>185646.0</td>\n",
       "      <td>206887076</td>\n",
       "      <td>800</td>\n",
       "    </tr>\n",
       "    <tr>\n",
       "      <th>5000</th>\n",
       "      <td>2013</td>\n",
       "      <td>KIA</td>\n",
       "      <td>SOUL</td>\n",
       "      <td>Nevada</td>\n",
       "      <td>92205.0</td>\n",
       "      <td>206920178</td>\n",
       "      <td>1225</td>\n",
       "    </tr>\n",
       "    <tr>\n",
       "      <th>5001</th>\n",
       "      <td>2012</td>\n",
       "      <td>CHEVROLET</td>\n",
       "      <td>EQUINOX</td>\n",
       "      <td>Oklahoma</td>\n",
       "      <td>197246.0</td>\n",
       "      <td>206846785</td>\n",
       "      <td>625</td>\n",
       "    </tr>\n",
       "    <tr>\n",
       "      <th>5003</th>\n",
       "      <td>2003</td>\n",
       "      <td>HONDA</td>\n",
       "      <td>ACCORD</td>\n",
       "      <td>California</td>\n",
       "      <td>227957.0</td>\n",
       "      <td>206887080</td>\n",
       "      <td>525</td>\n",
       "    </tr>\n",
       "    <tr>\n",
       "      <th>5011</th>\n",
       "      <td>1999</td>\n",
       "      <td>LEXUS</td>\n",
       "      <td>RX</td>\n",
       "      <td>Montana</td>\n",
       "      <td>233343.0</td>\n",
       "      <td>206847510</td>\n",
       "      <td>475</td>\n",
       "    </tr>\n",
       "  </tbody>\n",
       "</table>\n",
       "<p>1621 rows × 7 columns</p>\n",
       "</div>"
      ],
      "text/plain": [
       "      Year      Brand    Model       State    Milage        Lot  Price\n",
       "0     2014       JEEP    GRAND    Michigan  141611.0  206958611   3250\n",
       "1     2014      HONDA   ACCORD    Michigan  262803.0  206958621   1425\n",
       "2     1999      HONDA     CR-V    Michigan  214984.0  206958645    425\n",
       "3     2011    HYUNDAI   SONATA    Michigan  171272.0  206958649    900\n",
       "4     2001      HONDA     CR-V    Michigan  218334.0  206958650    500\n",
       "...    ...        ...      ...         ...       ...        ...    ...\n",
       "4998  2005      HONDA   ACCORD  California  185646.0  206887076    800\n",
       "5000  2013        KIA     SOUL      Nevada   92205.0  206920178   1225\n",
       "5001  2012  CHEVROLET  EQUINOX    Oklahoma  197246.0  206846785    625\n",
       "5003  2003      HONDA   ACCORD  California  227957.0  206887080    525\n",
       "5011  1999      LEXUS       RX     Montana  233343.0  206847510    475\n",
       "\n",
       "[1621 rows x 7 columns]"
      ]
     },
     "execution_count": 85,
     "metadata": {},
     "output_type": "execute_result"
    }
   ],
   "source": [
    "data"
   ]
  },
  {
   "cell_type": "code",
   "execution_count": 87,
   "id": "9faf397e-c37d-4278-909f-d5f34a8eef3a",
   "metadata": {},
   "outputs": [],
   "source": [
    "import seaborn as sns\n",
    "import matplotlib.pyplot as plt"
   ]
  },
  {
   "cell_type": "markdown",
   "id": "4fdb9a46-3a75-4b79-9f91-551cbc58ba64",
   "metadata": {},
   "source": [
    "## Handling Outliers"
   ]
  },
  {
   "cell_type": "code",
   "execution_count": 89,
   "id": "aa658231-fe5f-48bf-9874-792ca730c8b4",
   "metadata": {},
   "outputs": [
    {
     "data": {
      "image/png": "[encoded data removed]",
      "text/plain": [
       "<Figure size 640x480 with 1 Axes>"
      ]
     },
     "metadata": {},
     "output_type": "display_data"
    }
   ],
   "source": [
    "sns.boxplot(data[\"Price\"])\n",
    "plt.title(\"Price Boxplot\")\n",
    "plt.show()"
   ]
  },
  {
   "cell_type": "code",
   "execution_count": 91,
   "id": "7227214d-c890-40e6-b960-ef0674000fa9",
   "metadata": {},
   "outputs": [
    {
     "data": {
      "text/plain": [
       "-72439.61581031253"
      ]
     },
     "execution_count": 91,
     "metadata": {},
     "output_type": "execute_result"
    }
   ],
   "source": [
    "price_upper_limit = data[\"Price\"].mean() + 3*data[\"Price\"].std()\n",
    "price_lower_limit = data[\"Price\"].mean() - 3*data[\"Price\"].std()\n",
    "price_lower_limit"
   ]
  },
  {
   "cell_type": "code",
   "execution_count": 95,
   "id": "7c7a75aa-7ce3-4dc8-9041-e75077499173",
   "metadata": {},
   "outputs": [],
   "source": [
    "data = data[data[\"Price\"] < price_upper_limit]"
   ]
  },
  {
   "cell_type": "code",
   "execution_count": 97,
   "id": "758d7dcc-3e03-42b9-87cb-75b14c411315",
   "metadata": {},
   "outputs": [
    {
     "data": {
      "image/png": "[encoded data removed]",
      "text/plain": [
       "<Figure size 640x480 with 1 Axes>"
      ]
     },
     "metadata": {},
     "output_type": "display_data"
    }
   ],
   "source": [
    "sns.boxplot(data[\"Milage\"])\n",
    "plt.title(\"Milage Boxplot\")\n",
    "plt.show()"
   ]
  },
  {
   "cell_type": "code",
   "execution_count": 99,
   "id": "481c5583-7d29-4bf2-861b-63614aef4ca1",
   "metadata": {},
   "outputs": [
    {
     "data": {
      "text/plain": [
       "-51106.62022017824"
      ]
     },
     "execution_count": 99,
     "metadata": {},
     "output_type": "execute_result"
    }
   ],
   "source": [
    "Milage_upper_limit = data[\"Milage\"].mean() + 3*data[\"Milage\"].std()\n",
    "Milage_lower_limit = data[\"Milage\"].mean() - 3*data[\"Milage\"].std()\n",
    "Milage_lower_limit"
   ]
  },
  {
   "cell_type": "code",
   "execution_count": 101,
   "id": "4f22ffa8-624e-403b-813a-4774fc6450d1",
   "metadata": {},
   "outputs": [],
   "source": [
    "data = data[data[\"Milage\"] < Milage_upper_limit]"
   ]
  },
  {
   "cell_type": "code",
   "execution_count": 103,
   "id": "e697fd07-5829-43c9-ad4f-604a5631e44a",
   "metadata": {},
   "outputs": [
    {
     "data": {
      "text/html": [
       "<div>\n",
       "<style scoped>\n",
       "    .dataframe tbody tr th:only-of-type {\n",
       "        vertical-align: middle;\n",
       "    }\n",
       "\n",
       "    .dataframe tbody tr th {\n",
       "        vertical-align: top;\n",
       "    }\n",
       "\n",
       "    .dataframe thead th {\n",
       "        text-align: right;\n",
       "    }\n",
       "</style>\n",
       "<table border=\"1\" class=\"dataframe\">\n",
       "  <thead>\n",
       "    <tr style=\"text-align: right;\">\n",
       "      <th></th>\n",
       "      <th>Year</th>\n",
       "      <th>Brand</th>\n",
       "      <th>Model</th>\n",
       "      <th>State</th>\n",
       "      <th>Milage</th>\n",
       "      <th>Lot</th>\n",
       "      <th>Price</th>\n",
       "    </tr>\n",
       "  </thead>\n",
       "  <tbody>\n",
       "    <tr>\n",
       "      <th>0</th>\n",
       "      <td>2014</td>\n",
       "      <td>JEEP</td>\n",
       "      <td>GRAND</td>\n",
       "      <td>Michigan</td>\n",
       "      <td>141611.0</td>\n",
       "      <td>206958611</td>\n",
       "      <td>3250</td>\n",
       "    </tr>\n",
       "    <tr>\n",
       "      <th>1</th>\n",
       "      <td>2014</td>\n",
       "      <td>HONDA</td>\n",
       "      <td>ACCORD</td>\n",
       "      <td>Michigan</td>\n",
       "      <td>262803.0</td>\n",
       "      <td>206958621</td>\n",
       "      <td>1425</td>\n",
       "    </tr>\n",
       "    <tr>\n",
       "      <th>2</th>\n",
       "      <td>1999</td>\n",
       "      <td>HONDA</td>\n",
       "      <td>CR-V</td>\n",
       "      <td>Michigan</td>\n",
       "      <td>214984.0</td>\n",
       "      <td>206958645</td>\n",
       "      <td>425</td>\n",
       "    </tr>\n",
       "    <tr>\n",
       "      <th>3</th>\n",
       "      <td>2011</td>\n",
       "      <td>HYUNDAI</td>\n",
       "      <td>SONATA</td>\n",
       "      <td>Michigan</td>\n",
       "      <td>171272.0</td>\n",
       "      <td>206958649</td>\n",
       "      <td>900</td>\n",
       "    </tr>\n",
       "    <tr>\n",
       "      <th>4</th>\n",
       "      <td>2001</td>\n",
       "      <td>HONDA</td>\n",
       "      <td>CR-V</td>\n",
       "      <td>Michigan</td>\n",
       "      <td>218334.0</td>\n",
       "      <td>206958650</td>\n",
       "      <td>500</td>\n",
       "    </tr>\n",
       "    <tr>\n",
       "      <th>...</th>\n",
       "      <td>...</td>\n",
       "      <td>...</td>\n",
       "      <td>...</td>\n",
       "      <td>...</td>\n",
       "      <td>...</td>\n",
       "      <td>...</td>\n",
       "      <td>...</td>\n",
       "    </tr>\n",
       "    <tr>\n",
       "      <th>4998</th>\n",
       "      <td>2005</td>\n",
       "      <td>HONDA</td>\n",
       "      <td>ACCORD</td>\n",
       "      <td>California</td>\n",
       "      <td>185646.0</td>\n",
       "      <td>206887076</td>\n",
       "      <td>800</td>\n",
       "    </tr>\n",
       "    <tr>\n",
       "      <th>5000</th>\n",
       "      <td>2013</td>\n",
       "      <td>KIA</td>\n",
       "      <td>SOUL</td>\n",
       "      <td>Nevada</td>\n",
       "      <td>92205.0</td>\n",
       "      <td>206920178</td>\n",
       "      <td>1225</td>\n",
       "    </tr>\n",
       "    <tr>\n",
       "      <th>5001</th>\n",
       "      <td>2012</td>\n",
       "      <td>CHEVROLET</td>\n",
       "      <td>EQUINOX</td>\n",
       "      <td>Oklahoma</td>\n",
       "      <td>197246.0</td>\n",
       "      <td>206846785</td>\n",
       "      <td>625</td>\n",
       "    </tr>\n",
       "    <tr>\n",
       "      <th>5003</th>\n",
       "      <td>2003</td>\n",
       "      <td>HONDA</td>\n",
       "      <td>ACCORD</td>\n",
       "      <td>California</td>\n",
       "      <td>227957.0</td>\n",
       "      <td>206887080</td>\n",
       "      <td>525</td>\n",
       "    </tr>\n",
       "    <tr>\n",
       "      <th>5011</th>\n",
       "      <td>1999</td>\n",
       "      <td>LEXUS</td>\n",
       "      <td>RX</td>\n",
       "      <td>Montana</td>\n",
       "      <td>233343.0</td>\n",
       "      <td>206847510</td>\n",
       "      <td>475</td>\n",
       "    </tr>\n",
       "  </tbody>\n",
       "</table>\n",
       "<p>1616 rows × 7 columns</p>\n",
       "</div>"
      ],
      "text/plain": [
       "      Year      Brand    Model       State    Milage        Lot  Price\n",
       "0     2014       JEEP    GRAND    Michigan  141611.0  206958611   3250\n",
       "1     2014      HONDA   ACCORD    Michigan  262803.0  206958621   1425\n",
       "2     1999      HONDA     CR-V    Michigan  214984.0  206958645    425\n",
       "3     2011    HYUNDAI   SONATA    Michigan  171272.0  206958649    900\n",
       "4     2001      HONDA     CR-V    Michigan  218334.0  206958650    500\n",
       "...    ...        ...      ...         ...       ...        ...    ...\n",
       "4998  2005      HONDA   ACCORD  California  185646.0  206887076    800\n",
       "5000  2013        KIA     SOUL      Nevada   92205.0  206920178   1225\n",
       "5001  2012  CHEVROLET  EQUINOX    Oklahoma  197246.0  206846785    625\n",
       "5003  2003      HONDA   ACCORD  California  227957.0  206887080    525\n",
       "5011  1999      LEXUS       RX     Montana  233343.0  206847510    475\n",
       "\n",
       "[1616 rows x 7 columns]"
      ]
     },
     "execution_count": 103,
     "metadata": {},
     "output_type": "execute_result"
    }
   ],
   "source": [
    "data"
   ]
  },
  {
   "cell_type": "code",
   "execution_count": 105,
   "id": "f923bad6-5ddf-45f7-b781-2424f92c0663",
   "metadata": {},
   "outputs": [],
   "source": [
    "data.to_csv(\"Auction_export_cleaned\")"
   ]
  },
  {
   "cell_type": "code",
   "execution_count": null,
   "id": "17ac0eaa-8e3a-43e9-a2de-6ba5bc5800e2",
   "metadata": {},
   "outputs": [],
   "source": []
  }
 ],
 "metadata": {
  "kernelspec": {
   "display_name": "Python 3 (ipykernel)",
   "language": "python",
   "name": "python3"
  },
  "language_info": {
   "codemirror_mode": {
    "name": "ipython",
    "version": 3
   },
   "file_extension": ".py",
   "mimetype": "text/x-python",
   "name": "python",
   "nbconvert_exporter": "python",
   "pygments_lexer": "ipython3",
   "version": "3.12.4"
  }
 },
 "nbformat": 4,
 "nbformat_minor": 5
}
